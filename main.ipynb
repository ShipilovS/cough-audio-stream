{
 "cells": [
  {
   "cell_type": "code",
   "execution_count": 134,
   "metadata": {},
   "outputs": [],
   "source": [
    "from io import StringIO\n",
    "from scipy import stats\n",
    "from scipy.interpolate import interp1d\n",
    "from scipy.signal import hilbert, chirp\n",
    "\n",
    "import seaborn as sns\n",
    "import pyaudio\n",
    "import wave\n",
    "import matplotlib.pyplot as plt\n",
    "import numpy as np\n",
    "import plotly.express as px"
   ]
  },
  {
   "cell_type": "code",
   "execution_count": 204,
   "metadata": {},
   "outputs": [],
   "source": [
    "sample_format = pyaudio.paInt16  # 16 bits per sample\n",
    "CHANNELS = 2\n",
    "RATE = 44100\n",
    "COUNT = 4\n",
    "CHUNK = int(RATE / COUNT) # 1024 int(RATE / 4)\n",
    "TRESHHOLD = 2000\n",
    "seconds = 2\n",
    "filename = \"output.wav\""
   ]
  },
  {
   "cell_type": "code",
   "execution_count": 136,
   "metadata": {},
   "outputs": [],
   "source": [
    "def get_medians_from_frame(frame):\n",
    "    medians = []\n",
    "    for f in frame:\n",
    "        medians.append(np.median(frame))\n",
    "    return medians"
   ]
  },
  {
   "cell_type": "code",
   "execution_count": 137,
   "metadata": {},
   "outputs": [],
   "source": [
    "def get_squares(frame):\n",
    "    new_frames = []\n",
    "    for f in frame:\n",
    "        new_frames.append(\n",
    "            # f ** 2\n",
    "            abs(f)\n",
    "        )\n",
    "    return new_frames"
   ]
  },
  {
   "cell_type": "code",
   "execution_count": 138,
   "metadata": {},
   "outputs": [],
   "source": [
    "def moving_avg(x, n):\n",
    " cumsum = np.cumsum(np.insert(x, 0, 0)) \n",
    " return (cumsum[n:] - cumsum[:-n]) / float(n)"
   ]
  },
  {
   "cell_type": "code",
   "execution_count": 227,
   "metadata": {},
   "outputs": [],
   "source": [
    "# data = np.concatenate(frames)\n",
    "def process(frame):\n",
    "    print(f\"frame = {frame}\")\n",
    "    # data = np.concatenate(frames)\n",
    "    # for i in range(len(frames) - COUNT):\n",
    "    #     print(np.concatenate(frames[i:i+COUNT]))\n",
    "    # print(get_medians_from_frame(frame))\n",
    "    frame = get_squares(frame)\n",
    "    frame = moving_avg(frame, int(CHUNK / 2))\n",
    "    print(f\"moving_avg = {frame}\")\n",
    "    return frame"
   ]
  },
  {
   "cell_type": "code",
   "execution_count": 228,
   "metadata": {},
   "outputs": [],
   "source": [
    "def plot(frame):\n",
    "    fig = px.line(np.array(frame))\n",
    "    fig.show()"
   ]
  },
  {
   "cell_type": "markdown",
   "metadata": {},
   "source": [
    "====="
   ]
  },
  {
   "cell_type": "code",
   "execution_count": 229,
   "metadata": {},
   "outputs": [
    {
     "name": "stdout",
     "output_type": "stream",
     "text": [
      "Listening...\n"
     ]
    },
    {
     "name": "stderr",
     "output_type": "stream",
     "text": [
      "/tmp/ipykernel_15030/956533731.py:10: DeprecationWarning:\n",
      "\n",
      "The binary mode of fromstring is deprecated, as it behaves surprisingly on unicode inputs. Use frombuffer instead\n",
      "\n"
     ]
    },
    {
     "name": "stdout",
     "output_type": "stream",
     "text": [
      "1\n",
      "frame = [26 26 26 ... 23 21 21]\n",
      "moving_avg = [37.99020319 37.99092888 37.99165457 ... 33.80624093 33.80805515\n",
      " 33.80986938]\n",
      "2\n",
      "frame = [ 9  9 25 ... -1  8  8]\n",
      "moving_avg = [27.67053701 27.68124093 27.69194485 ... 26.84325109 26.83907837\n",
      " 26.83490566]\n",
      "3\n",
      "frame = [  8   8  12 ... 888 833 833]\n",
      "moving_avg = [4343.72351234 4344.17978955 4344.63606676 ... 1562.36683599 1561.89386792\n",
      " 1561.42089985]\n"
     ]
    },
    {
     "name": "stderr",
     "output_type": "stream",
     "text": [
      "/tmp/ipykernel_15030/3790329350.py:6: RuntimeWarning:\n",
      "\n",
      "overflow encountered in scalar absolute\n",
      "\n"
     ]
    },
    {
     "name": "stdout",
     "output_type": "stream",
     "text": [
      "4\n",
      "frame = [881 881 995 ... 136 129 129]\n",
      "moving_avg = [575.02467344 574.8717344  574.71879536 ...  56.92416546  56.94430334\n",
      "  56.96444122]\n",
      "5\n",
      "frame = [116 116 111 ...   0  10  10]\n",
      "moving_avg = [38.55478955 38.54408563 38.53338171 ... 30.60522496 30.60649492\n",
      " 30.60776488]\n",
      "6\n",
      "frame = [  3   3 -15 ...  35  34  34]\n",
      "moving_avg = [29.60921626 29.61465893 29.6201016  ... 27.95355588 27.95301161\n",
      " 27.95246734]\n",
      "7\n",
      "frame = [ 35  35  40 ... -53 -57 -57]\n",
      "moving_avg = [27.98730044 27.98167634 27.97605225 ... 27.75907112 27.76342525\n",
      " 27.76777939]\n",
      "8\n",
      "frame = [-58 -58 -61 ...   7   8   8]\n",
      "moving_avg = [30.36429608 30.35540639 30.34651669 ... 24.51886792 24.51632801\n",
      " 24.5137881 ]\n"
     ]
    }
   ],
   "source": [
    "p = pyaudio.PyAudio()\n",
    "\n",
    "stream = p.open(format=pyaudio.paInt16, channels=CHANNELS, rate=RATE, input=True,  frames_per_buffer=CHUNK)\n",
    "frames = []\n",
    "global_frames = []\n",
    "\n",
    "print(\"Listening...\")\n",
    "for i in range(0, int(RATE / CHUNK * seconds)):\n",
    "    sample = stream.read(CHUNK)\n",
    "    frame = np.fromstring(sample, dtype=np.int16)\n",
    "    frames.append(frame)\n",
    "    global_frames.append(frame)\n",
    "    print(len(frames))\n",
    "    # if len(frames) % COUNT == 0:\n",
    "        # print(\"Cough?\")\n",
    "        # by_one_seconds_frame = np.concatenate(frames)\n",
    "        # print(ln(by_one_seconds_frame))\n",
    "    process(frame)\n",
    "        # plot(frames[i])\n",
    "        # frames = []\n",
    "        \n",
    "stream.stop_stream()\n",
    "stream.close()\n",
    "p.terminate()\n",
    "\n",
    "# save\n",
    "wf = wave.open(filename, 'wb')\n",
    "wf.setnchannels(CHANNELS)\n",
    "wf.setsampwidth(p.get_sample_size(sample_format))\n",
    "wf.setframerate(RATE)\n",
    "wf.writeframes(b''.join(frames))\n",
    "wf.close()"
   ]
  },
  {
   "cell_type": "code",
   "execution_count": 226,
   "metadata": {},
   "outputs": [
    {
     "data": {
      "text/plain": [
       "[array([42, 42, 33, ...,  5, -7, -7], dtype=int16),\n",
       " array([ -9,  -9,  -6, ..., 565, 538, 538], dtype=int16),\n",
       " array([532, 532, 466, ..., -20, -25, -25], dtype=int16),\n",
       " array([-24, -24, -27, ...,  14,  17,  17], dtype=int16),\n",
       " array([17, 17, 19, ..., 14, 16, 16], dtype=int16),\n",
       " array([14, 14,  6, ..., 45, 51, 51], dtype=int16),\n",
       " array([ 37,  37,  34, ..., -28, -24, -24], dtype=int16),\n",
       " array([-21, -21, -12, ..., -44, -61, -61], dtype=int16)]"
      ]
     },
     "execution_count": 226,
     "metadata": {},
     "output_type": "execute_result"
    }
   ],
   "source": [
    "global_frames"
   ]
  },
  {
   "cell_type": "code",
   "execution_count": 182,
   "metadata": {},
   "outputs": [
    {
     "name": "stdout",
     "output_type": "stream",
     "text": [
      "1 5\n",
      "2 6\n",
      "3 7\n",
      "4 8\n"
     ]
    }
   ],
   "source": [
    "d = [1, 2, 3, 4, 5, 6, 7, 8]\n",
    "for i in range(0, len(d) - 4):\n",
    "    print(d[i], d[i + 4])"
   ]
  },
  {
   "cell_type": "code",
   "execution_count": null,
   "metadata": {},
   "outputs": [],
   "source": []
  }
 ],
 "metadata": {
  "kernelspec": {
   "display_name": "venv",
   "language": "python",
   "name": "python3"
  },
  "language_info": {
   "codemirror_mode": {
    "name": "ipython",
    "version": 3
   },
   "file_extension": ".py",
   "mimetype": "text/x-python",
   "name": "python",
   "nbconvert_exporter": "python",
   "pygments_lexer": "ipython3",
   "version": "3.8.18"
  },
  "orig_nbformat": 4
 },
 "nbformat": 4,
 "nbformat_minor": 2
}
